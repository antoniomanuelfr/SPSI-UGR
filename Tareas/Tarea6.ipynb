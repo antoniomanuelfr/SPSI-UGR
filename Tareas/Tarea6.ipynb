{
 "cells": [
  {
   "cell_type": "markdown",
   "metadata": {},
   "source": [
    "## Ejercicio 1 \n",
    "Emitir claves RSA para usuario A"
   ]
  },
  {
   "cell_type": "markdown",
   "metadata": {},
   "source": [
    "### RSA"
   ]
  },
  {
   "cell_type": "code",
   "execution_count": 1,
   "metadata": {},
   "outputs": [],
   "source": [
    "set_random_seed(0)\n",
    "e=65537\n",
    "import hashlib as hl\n",
    "# Genera claves para RSA\n",
    "def generate_key_RSA():\n",
    "    p = random_prime(2^60)\n",
    "    q = random_prime(2^60)\n",
    "    n = p * q\n",
    "    fi = euler_phi(n) \n",
    "    a,d,v = xgcd(e,fi)\n",
    "    \n",
    "    return (p,q,d,fi)\n",
    "\n",
    "def cifra_RSA(clave_publica, mensaje): \n",
    "    return power_mod(mensaje,clave_publica[1],clave_publica[0])\n",
    "\n",
    "def descifra_RSA (clave_privada, clave_publica, mensaje_cif):\n",
    "    return power_mod(mensaje_cif,clave_privada[2],clave_publica[0])\n",
    "    "
   ]
  },
  {
   "cell_type": "code",
   "execution_count": 2,
   "metadata": {},
   "outputs": [
    {
     "name": "stdout",
     "output_type": "stream",
     "text": [
      "('La clave privada de A es : ', (1114210326120812927, 630821761372402823, -305848498700880003617610327381722935, 702868120462850578479813732576477172))\n",
      "('La clave publica de A es : ', (702868120462850580224845820069692921, 65537))\n"
     ]
    }
   ],
   "source": [
    "## Usuario A    \n",
    "clave_privada_a = generate_key_RSA()\n",
    "clave_publica_a = (clave_privada_a[0]*clave_privada_a[1],e)\n",
    "\n",
    "print (\"La clave privada de A es : \", clave_privada_a)\n",
    "print (\"La clave publica de A es : \", clave_publica_a)\n"
   ]
  },
  {
   "cell_type": "markdown",
   "metadata": {},
   "source": [
    "## Ejercicio 2\n",
    "A cifra un mensaje para B y B descifra dicho mensaje"
   ]
  },
  {
   "cell_type": "code",
   "execution_count": 3,
   "metadata": {},
   "outputs": [
    {
     "name": "stdout",
     "output_type": "stream",
     "text": [
      "('La clave privada de B es : ', (185165687466288437, 1055104461128960479, -86972164486068288654446563230834727, 195369142893691771501164161592432408))\n",
      "('La clave publica de B es : ', (195369142893691772741434310187681323, 65537))\n"
     ]
    }
   ],
   "source": [
    "## Usuario B\n",
    "\n",
    "clave_privada_b = generate_key_RSA()\n",
    "clave_publica_b = (clave_privada_b[0]*clave_privada_b[1],e)\n",
    "\n",
    "print (\"La clave privada de B es : \", clave_privada_b)\n",
    "print (\"La clave publica de B es : \", clave_publica_b)\n"
   ]
  },
  {
   "cell_type": "code",
   "execution_count": 4,
   "metadata": {},
   "outputs": [
    {
     "name": "stdout",
     "output_type": "stream",
     "text": [
      "El mensaje cifrado es : 39936048920883738938983349764385102\n",
      "Se manda el mensaje cifrado a B\n",
      "El mensaje descifrado es: 8789764\n"
     ]
    }
   ],
   "source": [
    "## Intercambio del mensaje\n",
    "mensaje_a = 8789764\n",
    "\n",
    "mensaje_a_cif = cifra_RSA(clave_publica_b, mensaje_a)\n",
    "print (\"El mensaje cifrado es : {}\".format(mensaje_a_cif))\n",
    "\n",
    "print (\"Se manda el mensaje cifrado a B\")\n",
    "\n",
    "mensaje_a_des = descifra_RSA(clave_privada_b, clave_publica_b, mensaje_a_cif)\n",
    "print(\"El mensaje descifrado es: {}\".format(mensaje_a_des))"
   ]
  },
  {
   "cell_type": "markdown",
   "metadata": {},
   "source": [
    "## Ejercicio 3\n",
    "La clave de Alice es (49569253, 3) cifrar un mensaje "
   ]
  },
  {
   "cell_type": "code",
   "execution_count": 5,
   "metadata": {},
   "outputs": [
    {
     "name": "stdout",
     "output_type": "stream",
     "text": [
      "El mensaje cifrado es 3197155\n"
     ]
    }
   ],
   "source": [
    "clave_publica_alice = (49569253, 3)\n",
    "mensaje_alice = 12341231231213\n",
    "mensaje_alice_cifrado = cifra_RSA(clave_publica_alice, mensaje_alice)\n",
    "print (\"El mensaje cifrado es {}\".format(mensaje_alice_cifrado))"
   ]
  },
  {
   "cell_type": "markdown",
   "metadata": {},
   "source": [
    "## Ejercicio 4\n",
    "Alice (49569253, 1121) y Bob (49569253, 1717) \n",
    "Alice recibe 16187450 y Bob recibe 2897699 "
   ]
  },
  {
   "cell_type": "code",
   "execution_count": 6,
   "metadata": {},
   "outputs": [
    {
     "name": "stdout",
     "output_type": "stream",
     "text": [
      "El mensaje descifrado de Alice es: 171800\n",
      "El mensaje descifrado de Bob es: 171800\n"
     ]
    }
   ],
   "source": [
    "clave_publica_alice = (49569253, 1121)\n",
    "clave_publica_bob = (49569253, 1717)\n",
    "\n",
    "m_alice = 16187450\n",
    "m_bob = 2897699\n",
    "\n",
    "fi_n_a = euler_phi(clave_publica_alice[0])\n",
    "d_alice = inverse_mod(clave_publica_alice[1],fi_n_a)\n",
    "\n",
    "mensaje_des_alice = power_mod(m_alice, d_alice, clave_publica_alice[0])\n",
    "print (\"El mensaje descifrado de Alice es: {}\".format(mensaje_des_alice))\n",
    "\n",
    "fi_n_b = euler_phi(clave_publica_bob[0])\n",
    "d_bob = inverse_mod(clave_publica_bob[1],fi_n_b)\n",
    "\n",
    "mensaje_des_bob = power_mod(m_bob, d_bob, clave_publica_bob[0])\n",
    "print (\"El mensaje descifrado de Bob es: {}\".format(mensaje_des_bob))"
   ]
  },
  {
   "cell_type": "markdown",
   "metadata": {},
   "source": [
    "## Ejercicio 5\n",
    "Alice (49569253, 3), Bob (45729283, 3), Eve (62615533, 3)"
   ]
  },
  {
   "cell_type": "code",
   "execution_count": 7,
   "metadata": {},
   "outputs": [
    {
     "name": "stdout",
     "output_type": "stream",
     "text": [
      "El mensaje desencriptado de Alice es: \n",
      "[1100131, 4020704, 418030, 4111418, 600191, 4182222]\n",
      "\n",
      "El mensaje desencriptado de Eve es: \n",
      "[1100131, 4020704, 418030, 4111418, 600191, 4182222]\n",
      "\n",
      "El mensaje desencriptado de Bob es: \n",
      "[1100131, 4020704, 418030, 4111418, 600191, 4182222]\n",
      "\n"
     ]
    }
   ],
   "source": [
    "clave_publica_alice=(49569253,3)\n",
    "clave_publica_bob=(45729283,3)\n",
    "clave_publica_eve=(62615533,3)\n",
    "\n",
    "mensaje_alice=(14087331, 1176293, 46828916, 15244478, 34299711, 48939817)\n",
    "mensaje_bob=(27425305, 14483107, 13942406, 44901956, 24874564, 7906872)\n",
    "mensaje_eve=(62007067, 35550694, 62611116, 4185043, 52598842, 59059670)\n",
    "\n",
    "fi_n_a = euler_phi(clave_publica_alice[0])\n",
    "d_alice = inverse_mod(clave_publica_alice[1],fi_n_a)\n",
    "fi_n_b = euler_phi(clave_publica_bob[0])\n",
    "d_bob = inverse_mod(clave_publica_bob[1],fi_n_b)\n",
    "fi_n_e = euler_phi(clave_publica_eve[0])\n",
    "d_eve = inverse_mod(clave_publica_eve[1],fi_n_e)\n",
    "\n",
    "mensaje_alice_des=[]\n",
    "for i in mensaje_alice:\n",
    "    mensaje_alice_des.append(power_mod(i, d_alice, clave_publica_alice[0]))\n",
    "\n",
    "mensaje_bob_des=[]\n",
    "for i in mensaje_bob:\n",
    "    mensaje_bob_des.append(power_mod(i, d_bob, clave_publica_bob[0]))\n",
    "\n",
    "mensaje_eve_des=[]\n",
    "for i in mensaje_eve:\n",
    "    mensaje_eve_des.append(power_mod(i, d_eve, clave_publica_eve[0])\n",
    ")\n",
    "    \n",
    "print (\"El mensaje desencriptado de Alice es: \\n{}\\n\".format(mensaje_alice_des))\n",
    "print (\"El mensaje desencriptado de Eve es: \\n{}\\n\".format(mensaje_eve_des))\n",
    "print (\"El mensaje desencriptado de Bob es: \\n{}\\n\".format(mensaje_eve_des))"
   ]
  }
 ],
 "metadata": {
  "kernelspec": {
   "display_name": "SageMath 8.9",
   "language": "sage",
   "name": "sagemath"
  },
  "language_info": {
   "codemirror_mode": {
    "name": "ipython",
    "version": 2
   },
   "file_extension": ".py",
   "mimetype": "text/x-python",
   "name": "python",
   "nbconvert_exporter": "python",
   "pygments_lexer": "ipython2",
   "version": "2.7.17"
  }
 },
 "nbformat": 4,
 "nbformat_minor": 2
}
