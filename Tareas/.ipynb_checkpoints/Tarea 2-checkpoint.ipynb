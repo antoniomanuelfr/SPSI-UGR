{
 "cells": [
  {
   "cell_type": "markdown",
   "metadata": {},
   "source": [
    "# Tarea 2"
   ]
  },
  {
   "cell_type": "code",
   "execution_count": 1,
   "metadata": {},
   "outputs": [],
   "source": [
    "txt =\"BZBTJAVGQGVOTBVGTKFNGQGVMTTNWVYNBFZBATDTBZYNYTBRANBMTDTBTDEVFZBGTYTBNKNGNBWGNXKNBGTWZGVBZTFQGTNQRAWVYTGVFQTGBTXVWGNBFTMVXYTDNSNQVGTBWTTKTFTAWVLRTQNGTDTBTGZANDDTBZIKTNKEVFIGTTAIRBDNYTKNBQZTSNBLRTMZMTATAFZBIVBLRTBBRIFNGZAVBFZBGTINJAVBDVFVKVBYTKMZTUVQNBWVGYTATQWRAVQNDTABZAWTFVGTAKNBZAFTABNBQGNYTGNBYTKVDTNAVWTAJVXVNEZRANMNBWNQGVQZTYNYLRTTCQKVWVXVFZBFVXLRTTBWNBTFIGNYNQVGKNFNAVYTKDGTNYVGYTWVYNBKNBDVBNB\""
   ]
  },
  {
   "cell_type": "markdown",
   "metadata": {},
   "source": [
    "###### Funciones necesarias"
   ]
  },
  {
   "cell_type": "code",
   "execution_count": 29,
   "metadata": {},
   "outputs": [],
   "source": [
    "import numpy as np\n",
    "\n",
    "\"\"\"\n",
    "    Función para resolver una conguencia  ax = b mod m\n",
    "    \n",
    "    Parameter \n",
    "    ----------------------\n",
    "    a : Entero o polinomio\n",
    "    b : Entero o polinomio\n",
    "    c : Entero o polinomio\n",
    "    \n",
    "    Return\n",
    "    -------------------\n",
    "    Solución en caso de existir\n",
    "\"\"\"\n",
    "\n",
    "def iCrt(a,b,m):\n",
    "    eu = xgcd(m,a)\n",
    "    if b % eu[0]:\n",
    "        return 'No sol'\n",
    "    else:\n",
    "        m = m // eu[0]\n",
    "        b = b // eu[0]\n",
    "        return [b*eu[2] % m ,m]\n",
    "    \n",
    "\"\"\"\n",
    "    Función para resolver un sistema de conguencias a = b mod m\n",
    "    \n",
    "    Parameter \n",
    "    ----------------------\n",
    "    a : Lista que contiene el sistema a resolver \n",
    "    \n",
    "    l = [a_1, b_1, m_1, a_2, b_2, m_2 ........]\n",
    "    \n",
    "    Return\n",
    "    -------------------\n",
    "    Solución en caso de existir\n",
    "\"\"\"    \n",
    "def cadenatolista(cadena):\n",
    "    \"\"\"\n",
    "    Parameters\n",
    "    --------------\n",
    "\n",
    "    cadena : string con el texto a analizar solo con las mayusculas\n",
    "\n",
    "    Brief\n",
    "    --------------\n",
    "    Funcion para transformar las cadenas de texto en arrays numéricos\n",
    "    señalando el número al que pertenecen.\n",
    "    \"\"\"\n",
    "\n",
    "    l = np.zeros(len(cadena), dtype=np.uint8)\n",
    "    \n",
    "    for s, pos in zip( cadena, range(len(cadena)) ):\n",
    "        x = ord(s)\n",
    "        if x < 91:\n",
    "            l[pos] = x-65\n",
    "\n",
    "    return l\n",
    "    \n",
    "def frecuencias(texto):\n",
    "    \"\"\"\n",
    "    Parameter\n",
    "    ------------\n",
    "\n",
    "    texto: string del texto el cual vamos a analizar sus frecuencias\n",
    "\n",
    "    Return\n",
    "    ----------\n",
    "\n",
    "    tabla: numpy array de uint con 27 posiciones simbolizando el numero de \n",
    "           apariciones de cada letra\n",
    "    \"\"\"\n",
    "    tabla = np.zeros(26, dtype=np.uint)\n",
    "    lista = cadenatolista(texto)\n",
    "    \n",
    "    for x in lista:\n",
    "        tabla[x] = tabla[x]+1\n",
    "    \n",
    "    return tabla\n",
    "\n"
   ]
  },
  {
   "cell_type": "code",
   "execution_count": 33,
   "metadata": {},
   "outputs": [
    {
     "data": {
      "text/plain": [
       "array([22, 44,  1, 13,  3, 18, 29,  0,  7,  3, 15,  5,  7, 43,  1,  0, 16,\n",
       "       11,  2, 62,  1, 38, 15,  6, 18, 19], dtype=uint64)"
      ]
     },
     "execution_count": 33,
     "metadata": {},
     "output_type": "execute_result"
    }
   ],
   "source": [
    "frecuencias(txt)"
   ]
  },
  {
   "cell_type": "markdown",
   "metadata": {},
   "source": [
    "Aqui tenemos las frecuencias de aparición de las letras en el texto cifrado. Suponiendo que el texto original está en español, vamos a usar la tabla de frecuencias del español:  E A O S R N I D L C T U M P B G V Y Q H F Z J Ñ X K W. Consideramos t_1 = E y t_2 = A.\n",
    "\n",
    "Como vemos en la celda de arriba, la letra que más se repite es la letra T y la segunda la B, luego e_1 = T y e_2 = B.\n",
    "\n",
    "Formamos el sistema de congruencias: \n",
    "\n",
    "    e_1*a + b = t_1 mod n -> 19*a + b = 5 mod 26\n",
    "    e_2*a + b = t_2 mod n -> a + b = 1 mod 26\n",
    "    \n",
    "Pero sabemos que 18 no tiene inverso modulo 26, entonces vamos a cambiar la B que aperece 44 veces por la N que aparece 43:\n",
    "\n",
    "    e_1*a + b = t_1 mod n -> 19*a + b = 5 mod 26\n",
    "    e_2*a + b = t_2 mod n -> 13*a + b = 1 mod 26\n",
    "    \n",
    "Restamos las dos ecuaciones y resolvemos"
   ]
  },
  {
   "cell_type": "code",
   "execution_count": 41,
   "metadata": {},
   "outputs": [
    {
     "data": {
      "text/plain": [
       "[5, 13]"
      ]
     },
     "execution_count": 41,
     "metadata": {},
     "output_type": "execute_result"
    }
   ],
   "source": [
    "iCrt(6,4,26)"
   ]
  },
  {
   "cell_type": "markdown",
   "metadata": {},
   "source": [
    "Ahora podemos decir que a = 5 y sustiyendo en la otra ecuacion:\n",
    "\n",
    "    13*5 + b = 1 mod 26 -> b = 13 mod 27\n",
    "    \n",
    "y sabemos que a = 18 y b = 17. \n",
    "Como \n",
    "y probamos a desencriptar el texto con estos parametros."
   ]
  },
  {
   "cell_type": "code",
   "execution_count": 40,
   "metadata": {},
   "outputs": [
    {
     "data": {
      "text/plain": [
       "SISEGNORPROFESORELMARPROVEEATODASMISNECESIDADESUNASVECESECHOMISREDESALARASTRAYLASRETIROSIEMPREAPUNTODEROMPERSEYOTRASMEVOYDECAZAPORESTEELEMENTOQUEPARECESERINACCESIBLEALHOMBREENBUSCADELASPIEZASQUEVIVENENMISBOSQUESSUBMARINOSMISREBAGNOSCOMOLOSDELVIEJOPASTORDENEPTUNOPACENSINTEMORENLASINMENSASPRADERASDELOCEANOTENGOYOAHIUNAVASTAPROPIEDADQUEEXPLOTOYOMISMOYQUEESTASEMBRADAPORLAMANODELCREADORDETODASLASCOSAS"
      ]
     },
     "execution_count": 40,
     "metadata": {},
     "output_type": "execute_result"
    }
   ],
   "source": [
    "A=AffineCryptosystem(AlphabeticStrings())\n",
    "P=A.encoding(txt)\n",
    "A.enciphering(5,13,P)"
   ]
  },
  {
   "cell_type": "code",
   "execution_count": null,
   "metadata": {},
   "outputs": [],
   "source": []
  }
 ],
 "metadata": {
  "kernelspec": {
   "display_name": "SageMath 8.9",
   "language": "sage",
   "name": "sagemath"
  },
  "language_info": {
   "codemirror_mode": {
    "name": "ipython",
    "version": 2
   },
   "file_extension": ".py",
   "mimetype": "text/x-python",
   "name": "python",
   "nbconvert_exporter": "python",
   "pygments_lexer": "ipython2",
   "version": "2.7.16"
  }
 },
 "nbformat": 4,
 "nbformat_minor": 2
}
