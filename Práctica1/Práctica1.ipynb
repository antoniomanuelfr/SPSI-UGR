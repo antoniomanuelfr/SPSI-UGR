{
 "cells": [
  {
   "cell_type": "markdown",
   "metadata": {},
   "source": [
    "# Práctica 1 "
   ]
  },
  {
   "cell_type": "markdown",
   "metadata": {},
   "source": [
    "### Ejercicio 4: Elabore un guión en Sagemath que culmine en una función iCRT capaz de decidir si determinado sistema de congruencias, enteras o polinomiales, tiene solución y la proporcione en caso de existir."
   ]
  },
  {
   "cell_type": "code",
   "execution_count": 5,
   "metadata": {},
   "outputs": [],
   "source": [
    "\"\"\"\n",
    "    Función para resolver una conguencia  ax = b mod m\n",
    "    \n",
    "    Parameter \n",
    "    ----------------------\n",
    "    a : Entero o polinomio\n",
    "    b : Entero o polinomio\n",
    "    c : Entero o polinomio\n",
    "    \n",
    "    Return\n",
    "    -------------------\n",
    "    Solución en caso de existir\n",
    "\"\"\"\n",
    "\n",
    "def iCrt(a,b,m):\n",
    "    eu = xgcd(m,a)\n",
    "    if b % eu[0]:\n",
    "        return 'No sol'\n",
    "    else:\n",
    "        m = m // eu[0]\n",
    "        b = b // eu[0]\n",
    "        return [b*eu[2] % m ,m]\n",
    "    \n",
    "\"\"\"\n",
    "    Función para resolver un sistema de conguencias a = b mod m\n",
    "    \n",
    "    Parameter \n",
    "    ----------------------\n",
    "    a : Lista que contiene el sistema a resolver \n",
    "    \n",
    "    l = [a_1, b_1, m_1, a_2, b_2, m_2 ........]\n",
    "    \n",
    "    Return\n",
    "    -------------------\n",
    "    Solución en caso de existir\n",
    "\"\"\"    \n",
    "\n",
    "def iCRT(l):\n",
    "    s = [0,1] # s acumula suma y p el producto\n",
    "    while len (l) > 2 and s[1]:\n",
    "        t = iCrt(l[0]*s[1],l[1]-l[0]*s[0], l[2])\n",
    "        s = [ s[0]+s[1]*t[0], t[1]*s[1]]\n",
    "        l[0:3] = []\n",
    "    if s[1]:\n",
    "        return s\n",
    "    else:\n",
    "        return 'No sol'\n",
    "    "
   ]
  },
  {
   "cell_type": "code",
   "execution_count": 21,
   "metadata": {},
   "outputs": [
    {
     "name": "stdout",
     "output_type": "stream",
     "text": [
      "[1285, 3696]\n"
     ]
    },
    {
     "data": {
      "text/plain": [
       "[5/3*x^4 + 8/3*x^3 - 2*x^2 + 11/3*x - 5/3, x^5 + 2*x^4 + x^3 + 4*x^2 + 2]"
      ]
     },
     "execution_count": 21,
     "metadata": {},
     "output_type": "execute_result"
    }
   ],
   "source": [
    "R.<x> = QQ[]\n",
    "print (iCRT([15,6,9,8,11,21,11,7,16,6,10,22]))\n",
    "iCRT([1,x+2,x^2+1,x+1,x^2+1, x^3+2*x^2+2, x^2,3*x+x+1])"
   ]
  }
 ],
 "metadata": {
  "kernelspec": {
   "display_name": "SageMath 8.9",
   "language": "sage",
   "name": "sagemath"
  },
  "language_info": {
   "codemirror_mode": {
    "name": "ipython",
    "version": 2
   },
   "file_extension": ".py",
   "mimetype": "text/x-python",
   "name": "python",
   "nbconvert_exporter": "python",
   "pygments_lexer": "ipython2",
   "version": "2.7.16"
  }
 },
 "nbformat": 4,
 "nbformat_minor": 2
}
